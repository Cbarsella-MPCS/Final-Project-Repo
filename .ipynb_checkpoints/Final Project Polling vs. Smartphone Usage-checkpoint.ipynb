{
 "cells": [
  {
   "cell_type": "markdown",
   "id": "9ae9b604-d91e-4199-bc17-3225f4c0a6bf",
   "metadata": {},
   "source": [
    "# Final Project: Has Polling Accuracy Changed Due to Smart Phone Usage\n",
    "In the U.S., public opinion polling has been used as a tool to predict elections and understand the feelings of the american people. This data is critical in American society for political, economic, and social reasons. Polling allows politicians to calibrate their messaging in order to better serve their constituents, businesses and financial analysts use it to make assumptions on the state of the world in order to inform decisions, and voters throughout the country use it to inform how their communities are responding to political change. Since the proliferation of home telephones, polls have been conducted through calling phones and asking respondants their opinion on cectain topics. The introduction of the smart phone has increased the ability of users to screen unwanted phone calls potentially skewing who is answering polling calls. This leaves us with our H1 hypothesis that the introduction of the smart phone has decreased the reliability of polling.\n",
    "\n",
    "This project will attempt to validate or invalidate that hypothesis through measuring the spread between poll results and reality."
   ]
  },
  {
   "cell_type": "markdown",
   "id": "762b34fa-f653-483b-a095-144732f32c78",
   "metadata": {},
   "source": [
    "## Defining the research statement\n",
    "H1: The introduction of the smart phone has decreased the reliability of polling\n",
    "\n",
    "Scope: As the U.S. election is the most information dense and poll covered election in the world, we will scope our project to understand how the introduction of the smart phone has effected this particular poll, election result.\n",
    "\n",
    "Poll Providers: As there are several different poll providers, many of which change political alignment overtime, we will keep our research to Gallop polls which are generally considered the gold standard for american opinion polling. Gallup also has the added advantage of having consistently conducted polls over the time frame of our research.\n",
    "\n",
    "Time Frame: 1980 - 2024\n",
    "    By the 1980's Landline telephones completely saturated the U.S. market with smartphones and cellphones beginning to proliferate in the 1990's to 2000's, becoming ubiquitous by the mid 2015s.\n",
    "\n",
    "Measurement: Spread between poll results and reality compared to proliferation of smartphones.\n",
    "    Poll Results: As opinion changes overtime, we will assess poll results as the last poll before election\n",
    "    Reality: Actual posted outcome of election\n",
    "    Proliferation of smarphones: % of american households with a smartphone\n",
    "    "
   ]
  },
  {
   "cell_type": "markdown",
   "id": "d10a123b-5c4d-422a-89b2-c7aad99bcc42",
   "metadata": {},
   "source": [
    "## Required Data:\n",
    "\n",
    "### Polling & Election Data:\n",
    "Polling and Election data from Gallop is available via wikipedia, which we can pull into tables via pandas \"read_html\" functionality\n",
    "Source: https://en.wikipedia.org/wiki/Polling_for_United_States_presidential_elections#1984_United_States_presidential_election\n",
    "\n",
    "### Smartphone Data: \n",
    "The Pew Research center has some data that will cover most of our timeperiod, but does not cover the 2008 election period, for which we will use a comscore research report to fill. I have pulled this data into a .csv file for use in this project as it was only included on a .png.\n",
    "Source: https://www.pewresearch.org/internet/fact-sheet/mobile/\n",
    "Source: https://www.comscore.com/Insights/Blog/US-Smartphone-Penetration-Surpassed-80-Percent-in-2016\n"
   ]
  },
  {
   "cell_type": "markdown",
   "id": "07c9067b-903b-4ec8-b4bb-0c2c59121e6b",
   "metadata": {},
   "source": [
    "## Extracting and Organizing Data:"
   ]
  },
  {
   "cell_type": "markdown",
   "id": "0bc4ad81-bf4a-4d17-b5bc-9ad0bf2427c2",
   "metadata": {},
   "source": [
    "### Extracting"
   ]
  },
  {
   "cell_type": "code",
   "execution_count": null,
   "id": "8c8cfd19-528e-4fbd-b656-d98b71fc6256",
   "metadata": {},
   "outputs": [],
   "source": [
    "import pandas as pd\n",
    "\n",
    "# Source URL of Wikipedia page to scrape tables from\n",
    "url = \"https://en.wikipedia.org/wiki/Polling_for_United_States_presidential_elections\"\n",
    "\n",
    "# Initialize dictionary to hold tables from wikipedia page\n",
    "tables = {}\n",
    "\n",
    "# Function to pull tables from wikipedia page\n",
    "def get_tables(url):\n",
    "    try:\n",
    "        # Pandas read_html function to scrape tables from website\n",
    "        Scraped_tables = pd.read_html(url)\n",
    "        return Scraped_tables\n",
    "    except Exception as e:\n",
    "        print(\"Error scraping tables from wikipedia\")\n",
    "\n",
    "# Pull tables from wikipedia\n",
    "tables = get_tables(url)\n",
    "\n",
    "# Last Dictionary item not needed in dataset\n",
    "Removed_Last_Item = tables.pop()\n",
    "\n",
    "# Print the number of tables pulled from page\n",
    "print(f\"Found {len(tables)} tables from {url}\")\n",
    "\n",
    "# Test: Accessing tables from the Wikipedia page\n",
    "for idx, table in enumerate(tables):\n",
    "    print(f\"\\nElection {1936+idx*4}:\")\n",
    "    print(table.head())  # Displaying the first few rows of the table\n"
   ]
  },
  {
   "cell_type": "markdown",
   "id": "fa853822-b085-460a-89e7-400fd086f6aa",
   "metadata": {},
   "source": [
    "### Organizing:\n",
    "Now that I have all relevant data, I need to organize it into a data frame in the following form in order to run a regression and visualize data:\n",
    "\n",
    "data_format = {\n",
    "    'Election': [year, year, year, year,\n",
    "    'Election Poll Spread': [+x%, -y%, +z%, -a%, +b%],\n",
    "    'Smartphone Adoption': [15%, 25%, 35%, 45%, 55%]\n",
    "}"
   ]
  },
  {
   "cell_type": "code",
   "execution_count": null,
   "id": "16193bf3-a58f-4d9a-9653-0ae6c712bdc4",
   "metadata": {},
   "outputs": [],
   "source": [
    "cleaned_data_set = []\n",
    "\n",
    "smartphone_data_file = \"/Users/colinbarsella/Documents/MPCS_Python_Programming/Final-Project-Repo/Smartphone_adoption.csv\"\n",
    "\n",
    "smartphone_df = pd.read_csv(smartphone_data_file)\n",
    "\n",
    "for idx, table in enumerate(tables):\n",
    "    election_year = 1936+idx*4\n",
    "    if election_year >= 1980:\n",
    "        election_poll_spread_str = table.iloc[-1].values[1]\n",
    "        election_poll_spread = abs(float(election_poll_spread_str.replace('%', '').replace('+', '').strip()) / 100)\n",
    "        \n",
    "        adoption_rate_str = smartphone_df[smartphone_df[\"Date\"] == election_year][\"Smartphone Adoption\"].values[0]\n",
    "        adoption_rate = float(adoption_rate_str.replace('%', '').strip()) / 100\n",
    "        \n",
    "        cleaned_data_set.append([election_year, election_poll_spread, adoption_rate])\n",
    "    else: continue\n",
    "\n",
    "analysis_df = pd.DataFrame(cleaned_data_set, columns=[\"Election Year\", \"Election-Poll Spread from Winner\", \"Smartphone Adoption Rate\"])\n",
    "\n",
    "print(analysis_df.head)"
   ]
  },
  {
   "cell_type": "markdown",
   "id": "fe208b32-2a9a-410d-b769-0e205745ae4d",
   "metadata": {},
   "source": [
    "## Regression Analysis"
   ]
  },
  {
   "cell_type": "code",
   "execution_count": null,
   "id": "968bb291-7db0-43d7-9958-5e7ec1522ca4",
   "metadata": {},
   "outputs": [],
   "source": [
    "import numpy as np\n",
    "from scipy import stats\n",
    "\n",
    "\n",
    "# Set indepedent (x) and depedent (y) variables\n",
    "x = analysis_df[\"Smartphone Adoption Rate\"]\n",
    "y = analysis_df[\"Election-Poll Spread from Winner\"]\n",
    "\n",
    "# Define global assumptions\n",
    "alpha = .05\n",
    "n = len(x)\n",
    "p = 1\n",
    "h1 = \"The introduction of the smart phone has decreased the reliability of polling\"\n",
    "\n",
    "# Calculate coeffecients via least squares\n",
    "x_mean = x.mean()\n",
    "y_mean = y.mean()\n",
    "\n",
    "slope = np.sum((x - x_mean) * (y-y_mean)) / np.sum((x - x_mean)**2)\n",
    "y_intercept = y_mean - slope * x_mean\n",
    "\n",
    "# Calculate predicted y values given x\n",
    "y_pred = y_intercept + (slope * x)\n",
    "\n",
    "# Calculate error per prediction\n",
    "errors = y - y_pred\n",
    "\n",
    "# Calculate standard error of regression\n",
    "squared_errors = errors**2\n",
    "std_error = np.sqrt(np.sum(squared_errors) / (n - p - 1))\n",
    "\n",
    "# Calculate t-, p- values \n",
    "t_stat = slope / (std_error / np.sqrt(np.sum((x - x_mean)**2)))\n",
    "p_value = 2 * (1 - stats.t.cdf(np.abs(t_stat), df = n - p - 1))\n",
    "\n",
    "# Run logical test to accept or reject the H1 hypothesis\n",
    "print(f\"Through looking at the polling spreads of the past {n} elections compared to the proliferation of smartphone usage we have ran a p-test with a confidence level of .05. The output of the model was p-value = {round(p_value,4)}\")\n",
    "if p_value < alpha:\n",
    "    print(f\"As the p_value is greater than our confidence level, we accept the H1 hypothesis that smartphone use has decreased the accuracy of polling\")\n",
    "else:\n",
    "    print(f\"As the p_value is greater than our confidence level, we reject the H1 hypothesis that smartphone use has decreased the accuracy of polling\")\n"
   ]
  },
  {
   "cell_type": "markdown",
   "id": "73a0bfbd-8144-4013-8581-a7d207cf1c06",
   "metadata": {},
   "source": [
    "## Visualizing Data"
   ]
  },
  {
   "cell_type": "code",
   "execution_count": null,
   "id": "0d987aba-0edc-4ef8-a892-f308775c2e4d",
   "metadata": {},
   "outputs": [],
   "source": [
    "import matplotlib.pyplot as plt\n",
    "\n",
    "# Create and title figure to begin plotting\n",
    "fig, ax1 = plt.subplots(figsize=(10,6))\n",
    "plt.title(\"Smartphone Adoption Rate and Election-Poll Spread\", fontsize=16)\n",
    "\n",
    "# Plot Election-Poll Spread scatter plot\n",
    "ax1.scatter(analysis_df[\"Election Year\"], analysis_df[\"Election-Poll Spread from Winner\"] * 100, color=\"Red\", marker=\"D\", label=\"Election-Poll Spread (%)\")\n",
    "\n",
    "# Set lables and title for left y-axis for Election-Poll Spread\n",
    "ax1.set_xlabel(\"Election Year\", fontsize=12)\n",
    "ax1.set_ylabel(\"Election-Poll Spread (%)\", color=\"black\", fontsize=12)\n",
    "\n",
    "# Plot second y-axis for Smartphone Adoption Rate\n",
    "ax2 = ax1.twinx()\n",
    "ax2.plot(analysis_df[\"Election Year\"], analysis_df[\"Smartphone Adoption Rate\"] * 100, color=\"black\", label=\"Smarphone Adoption Rate (%)\")\n",
    "\n",
    "# Set lables and title for right y-axis for Smarphone Adoption Rate (%)\n",
    "ax2.set_ylabel(\"Smartphone Adoption Rate (%)\", fontsize=12)\n",
    "ax2.set_ylim(0,100)\n",
    "\n",
    "# Set legend for chart\n",
    "lines1, labels1 = ax1.get_legend_handles_labels()\n",
    "lines2, labels2 = ax2.get_legend_handles_labels()\n",
    "ax1.legend(lines1 + lines2, labels1 + labels2, loc='best')\n",
    "ax1.set_title(\"Smartphone Adoption and Poll Spread Over Time\")\n",
    "\n",
    "plt.show()"
   ]
  },
  {
   "cell_type": "code",
   "execution_count": null,
   "id": "48a1de71-b00c-4e0e-8cb8-fe1e3b39a21c",
   "metadata": {},
   "outputs": [],
   "source": [
    "import numpy as np\n",
    "\n",
    "# Create and title figure to begin plotting\n",
    "fig2, ax1 = plt.subplots(figsize=(10,6))\n",
    "plt.title(\"Smartphone Adoption Rate vs. Election-Poll Spread\", fontsize=16)\n",
    "\n",
    "# Plot Election-Poll Spread scatter plot\n",
    "ax1.scatter(analysis_df[\"Smartphone Adoption Rate\"] * 100, analysis_df[\"Election-Poll Spread from Winner\"] * 100, color=\"black\", marker=\"D\", label=\"Election-Poll Spread (%)\")\n",
    "\n",
    "# Add regression line\n",
    "x = analysis_df[\"Smartphone Adoption Rate\"] * 100\n",
    "y = analysis_df[\"Election-Poll Spread from Winner\"] * 100\n",
    "\n",
    "# Use numpy's polyfit to calculate regression line\n",
    "coefficients = np.polyfit(x, y, 1)\n",
    "regression_line = np.poly1d(coefficients)\n",
    "\n",
    "# Plot regression line\n",
    "x_line = np.linspace(x.min(), x.max(), 100)\n",
    "ax1.plot(x_line, regression_line(x_line), color='red', linestyle='--', \n",
    "            label=f'Regression Line\\n(y = {coefficients[0]:.4f}x + {coefficients[1]:.4f})')\n",
    "\n",
    "# Set lables, title, and legend for left y-axis for Election-Poll Spread\n",
    "ax1.set_xlabel(\"Smartphone Adoption Rate (%)\", fontsize=12)\n",
    "ax1.set_ylabel(\"Election-Poll Spread (%)\", color=\"black\", fontsize=12)\n",
    "ax1.set_xlim(0,100)\n",
    "ax1.legend(loc='best')\n",
    "\n",
    "plt.show()"
   ]
  },
  {
   "cell_type": "markdown",
   "id": "2d187890-dc69-4773-a872-56d0cd21b7e5",
   "metadata": {},
   "source": [
    "## Conclusion & Alternate Hypotheses\n",
    "**Conclusion:** We reject our H1 hypothesis that smartphone adoption rate has had an impact on election-polling prediction power for Gallup. We do not see a statistically significant relationship between the adoption rate and election-polling accuracy at Gallup.\n",
    "\n",
    "**Alternate Hypothesis:** Polling companies, in this case Gallop, are able to respond to technological change and make the correct polling adjustments. However, in years where there is technological or social change, polling results may be less accurate. We gain this alternate hypothesis from observing that in years with high increases in smartphone adoption rate 2012 & 2016, the spread between polls and election results seems to increase. "
   ]
  }
 ],
 "metadata": {
  "kernelspec": {
   "display_name": "Python 3 (ipykernel)",
   "language": "python",
   "name": "python3"
  },
  "language_info": {
   "codemirror_mode": {
    "name": "ipython",
    "version": 3
   },
   "file_extension": ".py",
   "mimetype": "text/x-python",
   "name": "python",
   "nbconvert_exporter": "python",
   "pygments_lexer": "ipython3",
   "version": "3.12.2"
  }
 },
 "nbformat": 4,
 "nbformat_minor": 5
}
